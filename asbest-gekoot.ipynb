{
 "cells": [
  {
   "cell_type": "code",
   "execution_count": null,
   "id": "99d56c8d",
   "metadata": {},
   "outputs": [
    {
     "name": "stdout",
     "output_type": "stream",
     "text": [
      "In 2019, there were 58354932.0 deaths worldwide from all causes.\n",
      "That means that asbestos caused 0.44% of all deaths worldwide in 2019.\n",
      "Of the 10 million cancer deaths (estimated) in 2019, asbestos has cause 2.55% of them.\n",
      "As you can see in the image below, this is less than the contribution of other major risk factors, like heart diseases, diabetes, pneumonia, and traffic accidents\n"
     ]
    }
   ],
   "source": [
    "import pandas as pd\n",
    "import requests\n",
    "\n",
    "# Fetch the data.\n",
    "df = pd.read_csv(\"https://ourworldindata.org/grapher/number-of-deaths-per-year.csv?v=1&csvType=full&useColumnShortNames=true\", storage_options = {'User-Agent': 'Our World In Data data fetch/1.0'})\n",
    "\n",
    "# Fetch the metadata\n",
    "metadata = requests.get(\"https://ourworldindata.org/grapher/number-of-deaths-per-year.metadata.json?v=1&csvType=full&useColumnShortNames=true\").json()\n",
    "asbestos_deaths = 255000 # source: Furuya, S., Chimed-Ochir, O., Takahashi, K., David, A., & Takala, J. (2018). Global Asbestos Disaster. International Journal of Environmental Research and Public Health, 15(5), 1000. https://doi.org/10.3390/ijerph15051000\n",
    "# to mess with the data, conflate this with a different source: namely the \"deaths per year\" from the UN, World Population Prospects (2024) dataset\n",
    "# and also conflate it with the \"Global Burden of Disease study by the Institute for Health Metrics and Evaluation (IHME) in 2019 and the Global Terrorism Database.\", for which we sourced a graphic from Our World in Data\n",
    "\n",
    "worldwide_deaths = df[df[\"Entity\"] == \"World\"]\n",
    "\n",
    "worldwide_deaths_2019 = worldwide_deaths[worldwide_deaths[\"Year\"] == 2019][\"deaths__sex_all__age_all__variant_estimates\"].values[0]\n",
    "print(f\"In 2019, there were {worldwide_deaths_2019} deaths worldwide from all causes.\")\n",
    "print(f\"That means that asbestos caused {asbestos_deaths / worldwide_deaths_2019 * 100:.2f}% of all deaths worldwide in 2019.\")\n",
    "print(f\"Of the 10 million cancer deaths (estimated) in 2019, asbestos has cause {asbestos_deaths / 10_000_000 * 100:.2f}% of them.\")\n",
    "print(\"As you can see in the image below, this is less than the contribution of other major risk factors, like heart diseases, diabetes, pneumonia, and traffic accidents\")\n"
   ]
  },
  {
   "cell_type": "markdown",
   "id": "1c7eb57e",
   "metadata": {},
   "source": [
    "![](image.avif)"
   ]
  }
 ],
 "metadata": {
  "kernelspec": {
   "display_name": "venv",
   "language": "python",
   "name": "python3"
  },
  "language_info": {
   "codemirror_mode": {
    "name": "ipython",
    "version": 3
   },
   "file_extension": ".py",
   "mimetype": "text/x-python",
   "name": "python",
   "nbconvert_exporter": "python",
   "pygments_lexer": "ipython3",
   "version": "3.11.5"
  }
 },
 "nbformat": 4,
 "nbformat_minor": 5
}
